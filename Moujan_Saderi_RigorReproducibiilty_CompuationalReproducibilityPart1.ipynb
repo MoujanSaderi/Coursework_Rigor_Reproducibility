{
  "nbformat": 4,
  "nbformat_minor": 0,
  "metadata": {
    "colab": {
      "provenance": [],
      "authorship_tag": "ABX9TyN7NqU0zvoDVvkch7CVVpF7",
      "include_colab_link": true
    },
    "kernelspec": {
      "name": "python3",
      "display_name": "Python 3"
    },
    "language_info": {
      "name": "python"
    }
  },
  "cells": [
    {
      "cell_type": "markdown",
      "metadata": {
        "id": "view-in-github",
        "colab_type": "text"
      },
      "source": [
        "<a href=\"https://colab.research.google.com/github/MoujanSaderi/Coursework_Rigor_Reproducibility/blob/main/Moujan_Saderi_RigorReproducibiilty_CompuationalReproducibilityPart1.ipynb\" target=\"_parent\"><img src=\"https://colab.research.google.com/assets/colab-badge.svg\" alt=\"Open In Colab\"/></a>"
      ]
    },
    {
      "cell_type": "markdown",
      "source": [
        "# Rigor and Reproducibility: Computational Reproducibility - Part 1\n",
        "## Moujan Saderi\n",
        "\n",
        "### Oct/29/2024\n",
        "\n"
      ],
      "metadata": {
        "id": "5PG8GR2zAIHT"
      }
    },
    {
      "cell_type": "code",
      "source": [
        "56/8"
      ],
      "metadata": {
        "colab": {
          "base_uri": "https://localhost:8080/"
        },
        "id": "lpm22laRAwGd",
        "outputId": "abd37b81-fc2f-4588-e4d6-83f4d609c105"
      },
      "execution_count": 2,
      "outputs": [
        {
          "output_type": "execute_result",
          "data": {
            "text/plain": [
              "7.0"
            ]
          },
          "metadata": {},
          "execution_count": 2
        }
      ]
    },
    {
      "cell_type": "markdown",
      "source": [
        "At the most basic level, using repositories for code and data can help computational reproducibility by improving the organization of relevant resources for a project. Having a centralized place to store script and data files, along with a structured method for directory organization, will prevent misplacement/loss of key resources which would be needed to verify or replicate results. For more computationally intensive projects, where a significant part of the innovation or scientific contribution is in the creation of software, computational models, or computational analysis techniques, the use of a repository tool that can automatically track changes, permit collaborations/publishing, and include documentation of software environments/dependencies is crucial. Tracked changes in version control systems (such as Git) provide the equivalent of a built-in “lab notebook”, by documenting the methods that were used to generate a given set of experimental results on a specific date. Tools for collaboration (such as those available on GitHub) reduce the risk of errors due to miscommunications or misaligned file versions, and publishing tools allow developed tools to be distributed widely, to encourage use and replication of findings by other groups. Finally, thorough documentation of how to run the code, as well as the software environment that was used for development, helps with computational reproducibility over time by providing sufficient details to recreate these conditions, even as available hardware and library versions change. Tools such as Github can encourage such documentation through the standardized use of ReadMe files, and built-in tools for creating packages and releases."
      ],
      "metadata": {
        "id": "2_NUWBDXA3hG"
      }
    }
  ]
}